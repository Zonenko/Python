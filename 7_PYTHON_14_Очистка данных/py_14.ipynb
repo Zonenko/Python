{
 "cells": [
  {
   "cell_type": "code",
   "execution_count": 4,
   "metadata": {},
   "outputs": [],
   "source": [
    "import pandas as pd\n",
    "\n",
    "diabetes_data = pd.read_csv('data/diabetes_data.csv')"
   ]
  },
  {
   "cell_type": "code",
   "execution_count": 5,
   "metadata": {},
   "outputs": [
    {
     "name": "stdout",
     "output_type": "stream",
     "text": [
      "Число найденных дубликатов: 10\n",
      "Результирующее число записей: 768\n"
     ]
    }
   ],
   "source": [
    "dupl_columns = list(diabetes_data.columns)\n",
    "mask = diabetes_data.duplicated(subset=dupl_columns)\n",
    "diabetes_duplicates = diabetes_data[mask]\n",
    "print(f'Число найденных дубликатов: {diabetes_duplicates.shape[0]}')\n",
    "diabetes_dedupped = diabetes_data.drop_duplicates(subset=dupl_columns)\n",
    "print(f'Результирующее число записей: {diabetes_dedupped.shape[0]}')"
   ]
  },
  {
   "cell_type": "code",
   "execution_count": 7,
   "metadata": {},
   "outputs": [
    {
     "name": "stdout",
     "output_type": "stream",
     "text": [
      "Gender: 100.0% одинаковых значений\n",
      "Результирующее число признаков: 9\n"
     ]
    }
   ],
   "source": [
    "#список неинформативных признаков\n",
    "low_information_cols = [] \n",
    "\n",
    "#цикл по всем столбцам\n",
    "for col in diabetes_data.columns:\n",
    "    #наибольшая относительная частота в признаке\n",
    "    top_freq = diabetes_data[col].value_counts(normalize=True).max()\n",
    "    #доля уникальных значений от размера признака\n",
    "    nunique_ratio = diabetes_data[col].nunique() / diabetes_data[col].count()\n",
    "    # сравниваем наибольшую частоту с порогом\n",
    "    if top_freq > 0.95:\n",
    "        low_information_cols.append(col)\n",
    "        print(f'{col}: {round(top_freq*100, 2)}% одинаковых значений')\n",
    "    # сравниваем долю уникальных значений с порогом\n",
    "    if nunique_ratio > 0.95:\n",
    "        low_information_cols.append(col)\n",
    "        print(f'{col}: {round(nunique_ratio*100, 2)}% уникальных значений')\n",
    "        \n",
    "information_diabetes_data= diabetes_data.drop(low_information_cols, axis=1)\n",
    "print(f'Результирующее число признаков: {information_diabetes_data.shape[1]}')"
   ]
  },
  {
   "cell_type": "code",
   "execution_count": null,
   "metadata": {},
   "outputs": [],
   "source": []
  }
 ],
 "metadata": {
  "kernelspec": {
   "display_name": "Python 3",
   "language": "python",
   "name": "python3"
  },
  "language_info": {
   "codemirror_mode": {
    "name": "ipython",
    "version": 3
   },
   "file_extension": ".py",
   "mimetype": "text/x-python",
   "name": "python",
   "nbconvert_exporter": "python",
   "pygments_lexer": "ipython3",
   "version": "3.10.12"
  }
 },
 "nbformat": 4,
 "nbformat_minor": 2
}
